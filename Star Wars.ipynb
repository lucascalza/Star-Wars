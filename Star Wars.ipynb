{
 "cells": [
  {
   "cell_type": "code",
   "execution_count": 1,
   "metadata": {},
   "outputs": [],
   "source": [
    "import pandas as pd\n",
    "import numpy as np\n",
    "import matplotlib.pyplot as plt"
   ]
  },
  {
   "cell_type": "code",
   "execution_count": 40,
   "metadata": {},
   "outputs": [],
   "source": [
    "star_wars = pd.read_csv(r'C:\\Users\\lucas\\PycharmProjects\\AltriEsercizi\\StarWars.csv', encoding = \"ISO-8859-1\")"
   ]
  },
  {
   "cell_type": "code",
   "execution_count": 41,
   "metadata": {},
   "outputs": [],
   "source": [
    "star_wars['Have you seen any of the 6 films in the Star Wars franchise?']\n",
    "series = star_wars['Have you seen any of the 6 films in the Star Wars franchise?']"
   ]
  },
  {
   "cell_type": "code",
   "execution_count": 42,
   "metadata": {},
   "outputs": [],
   "source": [
    "yesno_TF = {\n",
    "    \"Yes\" : True,\n",
    "    \"No\" : False\n",
    "}\n",
    "\n",
    "series = series.map(yesno_TF)\n",
    "star_wars['Have you seen any of the 6 films in the Star Wars franchise?'] = series"
   ]
  },
  {
   "cell_type": "code",
   "execution_count": 43,
   "metadata": {},
   "outputs": [],
   "source": [
    "another_series = star_wars['Do you consider yourself to be a fan of the Star Wars film franchise?']"
   ]
  },
  {
   "cell_type": "code",
   "execution_count": 44,
   "metadata": {},
   "outputs": [],
   "source": [
    "another_series = another_series.map(yesno_TF)\n",
    "star_wars['Do you consider yourself to be a fan of the Star Wars film franchise?'] = another_series"
   ]
  },
  {
   "cell_type": "code",
   "execution_count": 45,
   "metadata": {},
   "outputs": [],
   "source": [
    "dicti = {\n",
    "    'Star Wars: Episode I  The Phantom Menace' : True,\n",
    "    'Star Wars: Episode II  Attack of the Clones' : True,\n",
    "    'Star Wars: Episode III  Revenge of the Sith' : True,\n",
    "    'Star Wars: Episode IV  A New Hope' : True,\n",
    "    'Star Wars: Episode V The Empire Strikes Back' : True,\n",
    "    'Star Wars: Episode VI Return of the Jedi' : True,\n",
    "    np.NaN : False\n",
    "}\n",
    "\n",
    "for el in star_wars.columns[3:9]:\n",
    "    star_wars[el] = star_wars[el].map(dicti)\n",
    "    \n",
    "star_wars = star_wars.rename(columns = {\n",
    "        'Which of the following Star Wars films have you seen? Please select all that apply.' : 'seen_1',\n",
    "        'Unnamed: 4' : 'seen_2',\n",
    "        'Unnamed: 5' : 'seen_3',\n",
    "        'Unnamed: 6' : 'seen_4',\n",
    "        'Unnamed: 7' : 'seen_5',\n",
    "        'Unnamed: 8' : 'seen_6'\n",
    "    })"
   ]
  },
  {
   "cell_type": "code",
   "execution_count": 46,
   "metadata": {},
   "outputs": [],
   "source": [
    "star_wars = star_wars.drop([0])"
   ]
  },
  {
   "cell_type": "code",
   "execution_count": 47,
   "metadata": {},
   "outputs": [],
   "source": [
    "star_wars[star_wars.columns[9:15]] = star_wars[star_wars.columns[9:15]].astype(float)"
   ]
  },
  {
   "cell_type": "code",
   "execution_count": 48,
   "metadata": {},
   "outputs": [
    {
     "data": {
      "text/plain": [
       "'Please rank the Star Wars films in order of preference with 1 being your favorite film in the franchise and 6 being your least favorite film.'"
      ]
     },
     "execution_count": 48,
     "metadata": {},
     "output_type": "execute_result"
    }
   ],
   "source": [
    "star_wars.columns[9:15][0]"
   ]
  },
  {
   "cell_type": "code",
   "execution_count": 49,
   "metadata": {},
   "outputs": [],
   "source": [
    "star_wars = star_wars.rename(columns = {\n",
    "    star_wars.columns[9:15][0] : 'ranking_1',\n",
    "    star_wars.columns[9:15][1] : 'ranking_2',\n",
    "    star_wars.columns[9:15][2] : 'ranking_3',\n",
    "    star_wars.columns[9:15][3] : 'ranking_4',\n",
    "    star_wars.columns[9:15][4] : 'ranking_5',\n",
    "    star_wars.columns[9:15][5] : 'ranking_6'\n",
    "})"
   ]
  },
  {
   "cell_type": "code",
   "execution_count": 50,
   "metadata": {},
   "outputs": [
    {
     "data": {
      "text/plain": [
       "Index(['RespondentID',\n",
       "       'Have you seen any of the 6 films in the Star Wars franchise?',\n",
       "       'Do you consider yourself to be a fan of the Star Wars film franchise?',\n",
       "       'seen_1', 'seen_2', 'seen_3', 'seen_4', 'seen_5', 'seen_6', 'ranking_1',\n",
       "       'ranking_2', 'ranking_3', 'ranking_4', 'ranking_5', 'ranking_6',\n",
       "       'Please state whether you view the following characters favorably, unfavorably, or are unfamiliar with him/her.',\n",
       "       'Unnamed: 16', 'Unnamed: 17', 'Unnamed: 18', 'Unnamed: 19',\n",
       "       'Unnamed: 20', 'Unnamed: 21', 'Unnamed: 22', 'Unnamed: 23',\n",
       "       'Unnamed: 24', 'Unnamed: 25', 'Unnamed: 26', 'Unnamed: 27',\n",
       "       'Unnamed: 28', 'Which character shot first?',\n",
       "       'Are you familiar with the Expanded Universe?',\n",
       "       'Do you consider yourself to be a fan of the Expanded Universe?æ',\n",
       "       'Do you consider yourself to be a fan of the Star Trek franchise?',\n",
       "       'Gender', 'Age', 'Household Income', 'Education',\n",
       "       'Location (Census Region)'],\n",
       "      dtype='object')"
      ]
     },
     "execution_count": 50,
     "metadata": {},
     "output_type": "execute_result"
    }
   ],
   "source": [
    "star_wars.columns"
   ]
  },
  {
   "cell_type": "code",
   "execution_count": 51,
   "metadata": {},
   "outputs": [
    {
     "data": {
      "text/plain": [
       "Index(['seen_1', 'seen_2', 'seen_3', 'seen_4', 'seen_5', 'seen_6'], dtype='object')"
      ]
     },
     "execution_count": 51,
     "metadata": {},
     "output_type": "execute_result"
    }
   ],
   "source": [
    "star_wars.columns[3:9]"
   ]
  },
  {
   "cell_type": "code",
   "execution_count": 52,
   "metadata": {},
   "outputs": [
    {
     "name": "stdout",
     "output_type": "stream",
     "text": [
      "2.6281618887015177\n",
      "2.881112984822934\n",
      "3.0564924114671164\n",
      "2.3069139966273187\n",
      "1.7715008431703203\n",
      "2.148397976391231\n"
     ]
    },
    {
     "data": {
      "image/png": "[encoded data removed]",
      "text/plain": [
       "<Figure size 432x288 with 1 Axes>"
      ]
     },
     "metadata": {
      "needs_background": "light"
     },
     "output_type": "display_data"
    },
    {
     "data": {
      "image/png": "[encoded data removed]",
      "text/plain": [
       "<Figure size 432x288 with 1 Axes>"
      ]
     },
     "metadata": {
      "needs_background": "light"
     },
     "output_type": "display_data"
    }
   ],
   "source": [
    "for el in star_wars.columns[3:9]:\n",
    "    plt.bar(el, star_wars[el].sum())\n",
    "    \n",
    "for el in star_wars.columns[9:15]:\n",
    "    print(star_wars[el].sum() / len(star_wars))\n",
    "    \n",
    "plt.show()\n",
    "    \n",
    "for el in star_wars.columns[9:15]:\n",
    "    plt.bar(el, star_wars[el].sum())"
   ]
  },
  {
   "cell_type": "code",
   "execution_count": 53,
   "metadata": {},
   "outputs": [
    {
     "data": {
      "text/plain": [
       "Index(['RespondentID',\n",
       "       'Have you seen any of the 6 films in the Star Wars franchise?',\n",
       "       'Do you consider yourself to be a fan of the Star Wars film franchise?',\n",
       "       'seen_1', 'seen_2', 'seen_3', 'seen_4', 'seen_5', 'seen_6', 'ranking_1',\n",
       "       'ranking_2', 'ranking_3', 'ranking_4', 'ranking_5', 'ranking_6',\n",
       "       'Please state whether you view the following characters favorably, unfavorably, or are unfamiliar with him/her.',\n",
       "       'Unnamed: 16', 'Unnamed: 17', 'Unnamed: 18', 'Unnamed: 19',\n",
       "       'Unnamed: 20', 'Unnamed: 21', 'Unnamed: 22', 'Unnamed: 23',\n",
       "       'Unnamed: 24', 'Unnamed: 25', 'Unnamed: 26', 'Unnamed: 27',\n",
       "       'Unnamed: 28', 'Which character shot first?',\n",
       "       'Are you familiar with the Expanded Universe?',\n",
       "       'Do you consider yourself to be a fan of the Expanded Universe?æ',\n",
       "       'Do you consider yourself to be a fan of the Star Trek franchise?',\n",
       "       'Gender', 'Age', 'Household Income', 'Education',\n",
       "       'Location (Census Region)'],\n",
       "      dtype='object')"
      ]
     },
     "execution_count": 53,
     "metadata": {},
     "output_type": "execute_result"
    }
   ],
   "source": [
    "star_wars.columns"
   ]
  },
  {
   "cell_type": "code",
   "execution_count": 54,
   "metadata": {},
   "outputs": [],
   "source": [
    "males = star_wars[star_wars['Gender'] == 'Male']\n",
    "females = star_wars[star_wars['Gender'] == 'Female']\n",
    "\n",
    "fans = star_wars[star_wars['Do you consider yourself to be a fan of the Expanded Universe?æ'] == 'Yes']\n",
    "not_fans = star_wars[star_wars['Do you consider yourself to be a fan of the Expanded Universe?æ'] == 'No']\n",
    "\n",
    "star_trek_fans = star_wars[star_wars['Do you consider yourself to be a fan of the Star Trek franchise?'] == 'Yes']\n",
    "not_star_trek_fans = star_wars[star_wars['Do you consider yourself to be a fan of the Star Trek franchise?'] == 'No']"
   ]
  },
  {
   "cell_type": "code",
   "execution_count": 55,
   "metadata": {},
   "outputs": [
    {
     "data": {
      "image/png": "[encoded data removed]",
      "text/plain": [
       "<Figure size 432x288 with 1 Axes>"
      ]
     },
     "metadata": {
      "needs_background": "light"
     },
     "output_type": "display_data"
    },
    {
     "data": {
      "image/png": "[encoded data removed]",
      "text/plain": [
       "<Figure size 432x288 with 1 Axes>"
      ]
     },
     "metadata": {
      "needs_background": "light"
     },
     "output_type": "display_data"
    },
    {
     "data": {
      "image/png": "[encoded data removed]",
      "text/plain": [
       "<Figure size 432x288 with 1 Axes>"
      ]
     },
     "metadata": {
      "needs_background": "light"
     },
     "output_type": "display_data"
    },
    {
     "data": {
      "image/png": "[encoded data removed]",
      "text/plain": [
       "<Figure size 432x288 with 1 Axes>"
      ]
     },
     "metadata": {
      "needs_background": "light"
     },
     "output_type": "display_data"
    }
   ],
   "source": [
    "for el in star_trek_fans.columns[3:9]:\n",
    "    plt.bar(el, star_trek_fans[el].sum())\n",
    "    \n",
    "plt.show()\n",
    "\n",
    "for el in star_trek_fans.columns[9:15]:\n",
    "    plt.bar(el, star_trek_fans[el].sum())\n",
    "    \n",
    "plt.show()\n",
    "\n",
    "for el in not_star_trek_fans.columns[3:9]:\n",
    "    plt.bar(el, not_star_trek_fans[el].sum())\n",
    "    \n",
    "plt.show()\n",
    "\n",
    "for el in not_star_trek_fans.columns[9:15]:\n",
    "    plt.bar(el, not_star_trek_fans[el].sum())\n",
    "    \n",
    "plt.show()"
   ]
  },
  {
   "cell_type": "code",
   "execution_count": 56,
   "metadata": {},
   "outputs": [
    {
     "data": {
      "text/plain": [
       "'Education'"
      ]
     },
     "execution_count": 56,
     "metadata": {},
     "output_type": "execute_result"
    }
   ],
   "source": [
    "star_wars.columns[-2]"
   ]
  },
  {
   "cell_type": "code",
   "execution_count": 57,
   "metadata": {},
   "outputs": [
    {
     "name": "stdout",
     "output_type": "stream",
     "text": [
      "[3.29288000e+09 3.29287954e+09 3.29276527e+09 ... 3.28837529e+09\n",
      " 3.28837307e+09 3.28837292e+09]\n",
      "[True False]\n",
      "[True nan False]\n",
      "[ True False]\n",
      "[ True False]\n",
      "[ True False]\n",
      "[ True False]\n",
      "[ True False]\n",
      "[ True False]\n",
      "[ 3. nan  1.  5.  6.  4.  2.]\n",
      "[ 2. nan  6.  4.  5.  1.  3.]\n",
      "[ 1. nan  3.  6.  4.  5.  2.]\n",
      "[ 4. nan  2.  6.  3.  1.  5.]\n",
      "[ 5. nan  4.  1.  2.  3.  6.]\n",
      "[ 6. nan  3.  2.  1.  4.  5.]\n",
      "['Very favorably' nan 'Somewhat favorably'\n",
      " 'Neither favorably nor unfavorably (neutral)' 'Somewhat unfavorably'\n",
      " 'Unfamiliar (N/A)' 'Very unfavorably']\n",
      "['Very favorably' nan 'Somewhat favorably' 'Somewhat unfavorably'\n",
      " 'Neither favorably nor unfavorably (neutral)' 'Very unfavorably'\n",
      " 'Unfamiliar (N/A)']\n",
      "['Very favorably' nan 'Somewhat favorably' 'Somewhat unfavorably'\n",
      " 'Neither favorably nor unfavorably (neutral)' 'Very unfavorably'\n",
      " 'Unfamiliar (N/A)']\n",
      "['Very favorably' nan 'Somewhat favorably' 'Somewhat unfavorably'\n",
      " 'Neither favorably nor unfavorably (neutral)' 'Very unfavorably'\n",
      " 'Unfamiliar (N/A)']\n",
      "['Very favorably' nan 'Somewhat favorably' 'Very unfavorably'\n",
      " 'Neither favorably nor unfavorably (neutral)' 'Somewhat unfavorably'\n",
      " 'Unfamiliar (N/A)']\n",
      "['Very favorably' nan 'Unfamiliar (N/A)' 'Somewhat favorably'\n",
      " 'Very unfavorably' 'Neither favorably nor unfavorably (neutral)'\n",
      " 'Somewhat unfavorably']\n",
      "['Very favorably' nan 'Unfamiliar (N/A)' 'Somewhat favorably'\n",
      " 'Somewhat unfavorably' 'Very unfavorably'\n",
      " 'Neither favorably nor unfavorably (neutral)']\n",
      "['Unfamiliar (N/A)' nan 'Somewhat favorably'\n",
      " 'Neither favorably nor unfavorably (neutral)' 'Very favorably'\n",
      " 'Somewhat unfavorably' 'Very unfavorably']\n",
      "['Unfamiliar (N/A)' nan 'Somewhat unfavorably' 'Very favorably'\n",
      " 'Somewhat favorably' 'Neither favorably nor unfavorably (neutral)'\n",
      " 'Very unfavorably']\n",
      "['Very favorably' nan 'Unfamiliar (N/A)' 'Somewhat favorably'\n",
      " 'Neither favorably nor unfavorably (neutral)' 'Somewhat unfavorably'\n",
      " 'Very unfavorably']\n",
      "['Very favorably' nan 'Unfamiliar (N/A)' 'Somewhat favorably'\n",
      " 'Neither favorably nor unfavorably (neutral)' 'Somewhat unfavorably'\n",
      " 'Very unfavorably']\n",
      "['Very favorably' nan 'Unfamiliar (N/A)' 'Very unfavorably'\n",
      " 'Somewhat favorably' 'Somewhat unfavorably'\n",
      " 'Neither favorably nor unfavorably (neutral)']\n",
      "['Very favorably' nan 'Unfamiliar (N/A)' 'Somewhat favorably'\n",
      " 'Neither favorably nor unfavorably (neutral)' 'Somewhat unfavorably'\n",
      " 'Very unfavorably']\n",
      "['Very favorably' nan 'Unfamiliar (N/A)' 'Somewhat favorably'\n",
      " 'Very unfavorably' 'Neither favorably nor unfavorably (neutral)'\n",
      " 'Somewhat unfavorably']\n",
      "[\"I don't understand this question\" nan 'Greedo' 'Han']\n",
      "['Yes' nan 'No']\n",
      "['No' nan 'Yes']\n",
      "['No' 'Yes' nan]\n",
      "['Male' nan 'Female']\n",
      "['18-29' nan '30-44' '> 60' '45-60']\n",
      "[nan '$0 - $24,999' '$100,000 - $149,999' '$25,000 - $49,999'\n",
      " '$50,000 - $99,999' '$150,000+']\n",
      "['High school degree' 'Bachelor degree' 'Some college or Associate degree'\n",
      " nan 'Graduate degree' 'Less than high school degree']\n",
      "['South Atlantic' 'West South Central' 'West North Central'\n",
      " 'Middle Atlantic' 'East North Central' 'Pacific' nan 'Mountain'\n",
      " 'New England' 'East South Central']\n"
     ]
    }
   ],
   "source": [
    "for col in star_wars:\n",
    "    print(star_wars[col].unique())"
   ]
  },
  {
   "cell_type": "code",
   "execution_count": 58,
   "metadata": {},
   "outputs": [],
   "source": [
    "dicti_edu = {\n",
    "    'High school degree' : 'HS',\n",
    "    'Bachelor degree' : 'BC',\n",
    "    'Some college or Associate degree' : 'AD',\n",
    "    'Graduate degree' : 'MD',\n",
    "    'Less than high school degree' : 'ND',\n",
    "    np.NaN : False\n",
    "}"
   ]
  },
  {
   "cell_type": "code",
   "execution_count": 59,
   "metadata": {},
   "outputs": [],
   "source": [
    "star_wars[star_wars.columns[-2]] = star_wars[star_wars.columns[-2]].map(dicti_edu)"
   ]
  },
  {
   "cell_type": "code",
   "execution_count": 60,
   "metadata": {},
   "outputs": [],
   "source": [
    "HS = star_wars[star_wars['Education'] == 'HS']\n",
    "BC = star_wars[star_wars['Education'] == 'BC']\n",
    "AD = star_wars[star_wars['Education'] == 'AD']\n",
    "MD = star_wars[star_wars['Education'] == 'MD']\n",
    "ND = star_wars[star_wars['Education'] == 'ND']\n",
    "NAN = star_wars[star_wars['Education'] == False]"
   ]
  },
  {
   "cell_type": "code",
   "execution_count": 61,
   "metadata": {},
   "outputs": [
    {
     "data": {
      "image/png": "[encoded data removed]",
      "text/plain": [
       "<Figure size 432x288 with 1 Axes>"
      ]
     },
     "metadata": {
      "needs_background": "light"
     },
     "output_type": "display_data"
    },
    {
     "data": {
      "image/png": "[encoded data removed]",
      "text/plain": [
       "<Figure size 432x288 with 1 Axes>"
      ]
     },
     "metadata": {
      "needs_background": "light"
     },
     "output_type": "display_data"
    },
    {
     "data": {
      "image/png": "[encoded data removed]",
      "text/plain": [
       "<Figure size 432x288 with 1 Axes>"
      ]
     },
     "metadata": {
      "needs_background": "light"
     },
     "output_type": "display_data"
    },
    {
     "data": {
      "image/png": "[encoded data removed]",
      "text/plain": [
       "<Figure size 432x288 with 1 Axes>"
      ]
     },
     "metadata": {
      "needs_background": "light"
     },
     "output_type": "display_data"
    },
    {
     "data": {
      "image/png": "[encoded data removed]",
      "text/plain": [
       "<Figure size 432x288 with 1 Axes>"
      ]
     },
     "metadata": {
      "needs_background": "light"
     },
     "output_type": "display_data"
    },
    {
     "data": {
      "image/png": "[encoded data removed]",
      "text/plain": [
       "<Figure size 432x288 with 1 Axes>"
      ]
     },
     "metadata": {
      "needs_background": "light"
     },
     "output_type": "display_data"
    }
   ],
   "source": [
    "for el in HS.columns[3:9]:\n",
    "    plt.bar(el, HS[el].sum())\n",
    "    \n",
    "plt.show()\n",
    "\n",
    "for el in BC.columns[3:9]:\n",
    "    plt.bar(el, BC[el].sum())\n",
    "    \n",
    "plt.show()\n",
    "\n",
    "for el in AD.columns[3:9]:\n",
    "    plt.bar(el, AD[el].sum())\n",
    "    \n",
    "plt.show()\n",
    "\n",
    "for el in MD.columns[3:9]:\n",
    "    plt.bar(el, MD[el].sum())\n",
    "    \n",
    "plt.show()\n",
    "\n",
    "for el in ND.columns[3:9]:\n",
    "    plt.bar(el, ND[el].sum())\n",
    "    \n",
    "plt.show()\n",
    "\n",
    "for el in NAN.columns[3:9]:\n",
    "    plt.bar(el, NAN[el].sum())\n",
    "    \n",
    "plt.show()"
   ]
  },
  {
   "cell_type": "code",
   "execution_count": 62,
   "metadata": {},
   "outputs": [
    {
     "name": "stdout",
     "output_type": "stream",
     "text": [
      "['Very favorably' nan 'Somewhat favorably' 'Somewhat unfavorably'\n",
      " 'Neither favorably nor unfavorably (neutral)' 'Very unfavorably'\n",
      " 'Unfamiliar (N/A)']\n",
      "['Very favorably' nan 'Somewhat favorably' 'Somewhat unfavorably'\n",
      " 'Neither favorably nor unfavorably (neutral)' 'Very unfavorably'\n",
      " 'Unfamiliar (N/A)']\n",
      "['Very favorably' nan 'Somewhat favorably' 'Somewhat unfavorably'\n",
      " 'Neither favorably nor unfavorably (neutral)' 'Very unfavorably'\n",
      " 'Unfamiliar (N/A)']\n",
      "['Very favorably' nan 'Somewhat favorably' 'Very unfavorably'\n",
      " 'Neither favorably nor unfavorably (neutral)' 'Somewhat unfavorably'\n",
      " 'Unfamiliar (N/A)']\n",
      "['Very favorably' nan 'Unfamiliar (N/A)' 'Somewhat favorably'\n",
      " 'Very unfavorably' 'Neither favorably nor unfavorably (neutral)'\n",
      " 'Somewhat unfavorably']\n",
      "['Very favorably' nan 'Unfamiliar (N/A)' 'Somewhat favorably'\n",
      " 'Somewhat unfavorably' 'Very unfavorably'\n",
      " 'Neither favorably nor unfavorably (neutral)']\n",
      "['Unfamiliar (N/A)' nan 'Somewhat favorably'\n",
      " 'Neither favorably nor unfavorably (neutral)' 'Very favorably'\n",
      " 'Somewhat unfavorably' 'Very unfavorably']\n",
      "['Unfamiliar (N/A)' nan 'Somewhat unfavorably' 'Very favorably'\n",
      " 'Somewhat favorably' 'Neither favorably nor unfavorably (neutral)'\n",
      " 'Very unfavorably']\n",
      "['Very favorably' nan 'Unfamiliar (N/A)' 'Somewhat favorably'\n",
      " 'Neither favorably nor unfavorably (neutral)' 'Somewhat unfavorably'\n",
      " 'Very unfavorably']\n",
      "['Very favorably' nan 'Unfamiliar (N/A)' 'Somewhat favorably'\n",
      " 'Neither favorably nor unfavorably (neutral)' 'Somewhat unfavorably'\n",
      " 'Very unfavorably']\n",
      "['Very favorably' nan 'Unfamiliar (N/A)' 'Very unfavorably'\n",
      " 'Somewhat favorably' 'Somewhat unfavorably'\n",
      " 'Neither favorably nor unfavorably (neutral)']\n",
      "['Very favorably' nan 'Unfamiliar (N/A)' 'Somewhat favorably'\n",
      " 'Neither favorably nor unfavorably (neutral)' 'Somewhat unfavorably'\n",
      " 'Very unfavorably']\n",
      "['Very favorably' nan 'Unfamiliar (N/A)' 'Somewhat favorably'\n",
      " 'Very unfavorably' 'Neither favorably nor unfavorably (neutral)'\n",
      " 'Somewhat unfavorably']\n"
     ]
    }
   ],
   "source": [
    "for el in star_wars.columns[16:29]:\n",
    "    print(star_wars[el].unique())"
   ]
  },
  {
   "cell_type": "code",
   "execution_count": 64,
   "metadata": {},
   "outputs": [],
   "source": [
    "dicti_fav = {\n",
    "    'Very favorably' : True,\n",
    "    'Very unfavorably' : False,\n",
    "}"
   ]
  },
  {
   "cell_type": "code",
   "execution_count": 65,
   "metadata": {},
   "outputs": [],
   "source": [
    "for el in star_wars.columns[16:29]:\n",
    "    star_wars[el] = star_wars[el].map(dicti_fav)"
   ]
  },
  {
   "cell_type": "code",
   "execution_count": 66,
   "metadata": {},
   "outputs": [
    {
     "data": {
      "image/png": "[encoded data removed]",
      "text/plain": [
       "<Figure size 432x288 with 1 Axes>"
      ]
     },
     "metadata": {
      "needs_background": "light"
     },
     "output_type": "display_data"
    }
   ],
   "source": [
    "for el in star_wars.columns[16:29]:\n",
    "    plt.bar(el, star_wars[el].sum())"
   ]
  },
  {
   "cell_type": "code",
   "execution_count": 68,
   "metadata": {},
   "outputs": [],
   "source": [
    "tot_false = np.zeros([29 - 16, 1])\n",
    "tot_true = np.zeros([29 - 16, 1])\n",
    "\n",
    "i = 0\n",
    "\n",
    "while i < len(tot_false):\n",
    "    j = 0\n",
    "    while j < len(star_wars):\n",
    "        if star_wars[star_wars.columns[16 + i]].iloc[j] == True:\n",
    "            tot_true[i] = tot_true[i] + 1\n",
    "        elif star_wars[star_wars.columns[16 + i]].iloc[j] == False:\n",
    "            tot_false[i] = tot_false[i] + 1\n",
    "        j = j + 1\n",
    "    i = i + 1"
   ]
  },
  {
   "cell_type": "code",
   "execution_count": 71,
   "metadata": {},
   "outputs": [
    {
     "data": {
      "image/png": "[encoded data removed]",
      "text/plain": [
       "<Figure size 432x288 with 1 Axes>"
      ]
     },
     "metadata": {
      "needs_background": "light"
     },
     "output_type": "display_data"
    },
    {
     "data": {
      "image/png": "[encoded data removed]",
      "text/plain": [
       "<Figure size 432x288 with 1 Axes>"
      ]
     },
     "metadata": {
      "needs_background": "light"
     },
     "output_type": "display_data"
    }
   ],
   "source": [
    "k = 0\n",
    "\n",
    "while k < len(tot_true):\n",
    "    plt.bar(16 + k, tot_true[k])\n",
    "    k = k + 1\n",
    "\n",
    "plt.show()\n",
    "\n",
    "k = 0\n",
    "\n",
    "while k < len(tot_false):\n",
    "    plt.bar(16 + k, tot_false[k])\n",
    "    k = k + 1\n",
    "    \n",
    "plt.show()"
   ]
  },
  {
   "cell_type": "code",
   "execution_count": null,
   "metadata": {},
   "outputs": [],
   "source": []
  }
 ],
 "metadata": {
  "kernelspec": {
   "display_name": "Python 3",
   "language": "python",
   "name": "python3"
  },
  "language_info": {
   "codemirror_mode": {
    "name": "ipython",
    "version": 3
   },
   "file_extension": ".py",
   "mimetype": "text/x-python",
   "name": "python",
   "nbconvert_exporter": "python",
   "pygments_lexer": "ipython3",
   "version": "3.8.5"
  }
 },
 "nbformat": 4,
 "nbformat_minor": 4
}
